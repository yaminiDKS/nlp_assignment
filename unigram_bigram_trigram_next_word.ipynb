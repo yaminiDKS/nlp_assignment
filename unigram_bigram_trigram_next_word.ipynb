{
  "nbformat": 4,
  "nbformat_minor": 0,
  "metadata": {
    "colab": {
      "provenance": []
    },
    "kernelspec": {
      "name": "python3",
      "display_name": "Python 3"
    },
    "language_info": {
      "name": "python"
    }
  },
  "cells": [
    {
      "cell_type": "code",
      "execution_count": 1,
      "metadata": {
        "colab": {
          "base_uri": "https://localhost:8080/"
        },
        "id": "qZuBEEqskHeh",
        "outputId": "89406a6a-5266-44b4-b103-9f2346225d47"
      },
      "outputs": [
        {
          "output_type": "stream",
          "name": "stderr",
          "text": [
            "[nltk_data] Downloading package punkt to /root/nltk_data...\n",
            "[nltk_data]   Unzipping tokenizers/punkt.zip.\n"
          ]
        },
        {
          "output_type": "stream",
          "name": "stdout",
          "text": [
            "Unigrams:\n",
            "['this', 'is', 'a', 'sample', 'text', 'corpus', 'for', 'demonstrating', 'unigrams', ',', 'bigrams', ',', 'trigrams', ',', 'and', 'bigram', 'probabilities', '.']\n",
            "\n",
            "Bigrams:\n",
            "[('this', 'is'), ('is', 'a'), ('a', 'sample'), ('sample', 'text'), ('text', 'corpus'), ('corpus', 'for'), ('for', 'demonstrating'), ('demonstrating', 'unigrams'), ('unigrams', ','), (',', 'bigrams'), ('bigrams', ','), (',', 'trigrams'), ('trigrams', ','), (',', 'and'), ('and', 'bigram'), ('bigram', 'probabilities'), ('probabilities', '.')]\n",
            "\n",
            "Trigrams:\n",
            "[('this', 'is', 'a'), ('is', 'a', 'sample'), ('a', 'sample', 'text'), ('sample', 'text', 'corpus'), ('text', 'corpus', 'for'), ('corpus', 'for', 'demonstrating'), ('for', 'demonstrating', 'unigrams'), ('demonstrating', 'unigrams', ','), ('unigrams', ',', 'bigrams'), (',', 'bigrams', ','), ('bigrams', ',', 'trigrams'), (',', 'trigrams', ','), ('trigrams', ',', 'and'), (',', 'and', 'bigram'), ('and', 'bigram', 'probabilities'), ('bigram', 'probabilities', '.')]\n",
            "\n",
            "Bigram Probabilities:\n",
            "('this', 'is'): 1.0\n",
            "('is', 'a'): 1.0\n",
            "('a', 'sample'): 1.0\n",
            "('sample', 'text'): 1.0\n",
            "('text', 'corpus'): 1.0\n",
            "('corpus', 'for'): 1.0\n",
            "('for', 'demonstrating'): 1.0\n",
            "('demonstrating', 'unigrams'): 1.0\n",
            "('unigrams', ','): 1.0\n",
            "(',', 'bigrams'): 0.3333333333333333\n",
            "('bigrams', ','): 1.0\n",
            "(',', 'trigrams'): 0.3333333333333333\n",
            "('trigrams', ','): 1.0\n",
            "(',', 'and'): 0.3333333333333333\n",
            "('and', 'bigram'): 1.0\n",
            "('bigram', 'probabilities'): 1.0\n",
            "('probabilities', '.'): 1.0\n",
            "\n",
            "Predicted next word for 'this': is\n"
          ]
        }
      ],
      "source": [
        "import nltk\n",
        "from nltk import word_tokenize\n",
        "from nltk.util import ngrams\n",
        "from collections import Counter, defaultdict\n",
        "\n",
        "nltk.download('punkt')\n",
        "\n",
        "text = \"This is a sample text corpus for demonstrating unigrams, bigrams, trigrams, and bigram probabilities.\"\n",
        "\n",
        "tokens = word_tokenize(text.lower())\n",
        "\n",
        "unigrams = tokens\n",
        "bigrams = list(ngrams(tokens, 2))\n",
        "trigrams = list(ngrams(tokens, 3))\n",
        "\n",
        "bigram_freq = Counter(bigrams)\n",
        "unigram_freq = Counter(unigrams)\n",
        "\n",
        "bigram_prob = defaultdict(lambda: 0)\n",
        "for bigram in bigram_freq:\n",
        "    bigram_prob[bigram] = bigram_freq[bigram] / unigram_freq[bigram[0]]\n",
        "\n",
        "def predict_next_word(word):\n",
        "    candidates = {bigram[1]: prob for bigram, prob in bigram_prob.items() if bigram[0] == word}\n",
        "    if candidates:\n",
        "        next_word = max(candidates, key=candidates.get)\n",
        "        return next_word\n",
        "    else:\n",
        "        return None\n",
        "\n",
        "print(\"Unigrams:\")\n",
        "print(unigrams)\n",
        "print(\"\\nBigrams:\")\n",
        "print(bigrams)\n",
        "print(\"\\nTrigrams:\")\n",
        "print(trigrams)\n",
        "print(\"\\nBigram Probabilities:\")\n",
        "for bigram, prob in bigram_prob.items():\n",
        "    print(f\"{bigram}: {prob}\")\n",
        "word = 'this'\n",
        "next_word = predict_next_word(word)\n",
        "print(f\"\\nPredicted next word for '{word}': {next_word}\")"
      ]
    }
  ]
}